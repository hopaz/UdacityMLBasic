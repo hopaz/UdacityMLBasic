{
 "cells": [
  {
   "cell_type": "markdown",
   "metadata": {},
   "source": [
    "# 泰坦尼克号存活率分析\n"
   ]
  },
  {
   "cell_type": "markdown",
   "metadata": {},
   "source": [
    "# 数据相关\n",
    "\n",
    "\n",
    "## 来源\n",
    "数据来源于著名的数据分析竞赛网站Kaggle\n",
    "\n",
    "\n",
    "## 规模\n",
    "包括泰坦尼克号上 2224 名乘客和船员中 891 名的人口学数据和乘客基本信息。\n",
    "\n",
    "\n",
    "## 数据字典\n",
    "\n",
    "Survived：存活情况。1-存活，0-死亡。\n",
    "\n",
    "Pclass：舱位等级。1-上层，2-中间层，3-底层。\n",
    "\n",
    "Name：姓名\n",
    "\n",
    "Sex：性别\n",
    "\n",
    "Age：年龄\n",
    "\n",
    "SibSp：同乘的兄弟姐妹/配偶数\n",
    "\n",
    "Parch：同乘的父母/小孩数\n",
    "\n",
    "Ticket：船票编号\n",
    "\n",
    "Fare：船票价格\n",
    "\n",
    "Cabin：客舱号\n",
    "\n",
    "Embarked：登船港口。C：Cherbourg（瑟堡），Q：Queenstown（皇后镇），S：Southampton（南安普顿）。"
   ]
  },
  {
   "cell_type": "markdown",
   "metadata": {},
   "source": [
    "# 提出问题\n",
    "\n",
    "1. 探索舱室等级对存活率的影响\n",
    "2. 探索性别对存活率的影响\n",
    "3. 探索年龄对存活率的影响\n",
    "4. 探索乘客间是兄弟姐妹/配偶关系的对存活率的影响\n",
    "5. 探索乘客间是父母/小孩关系的对存活率的影响\n",
    "7. 探索舱室等级与年龄的综合因素对存活率的影响"
   ]
  },
  {
   "cell_type": "markdown",
   "metadata": {},
   "source": [
    "# 数据再加工"
   ]
  },
  {
   "cell_type": "code",
   "execution_count": 65,
   "metadata": {},
   "outputs": [
    {
     "data": {
      "text/html": [
       "<div>\n",
       "<style scoped>\n",
       "    .dataframe tbody tr th:only-of-type {\n",
       "        vertical-align: middle;\n",
       "    }\n",
       "\n",
       "    .dataframe tbody tr th {\n",
       "        vertical-align: top;\n",
       "    }\n",
       "\n",
       "    .dataframe thead th {\n",
       "        text-align: right;\n",
       "    }\n",
       "</style>\n",
       "<table border=\"1\" class=\"dataframe\">\n",
       "  <thead>\n",
       "    <tr style=\"text-align: right;\">\n",
       "      <th></th>\n",
       "      <th>PassengerId</th>\n",
       "      <th>Survived</th>\n",
       "      <th>Pclass</th>\n",
       "      <th>Name</th>\n",
       "      <th>Sex</th>\n",
       "      <th>Age</th>\n",
       "      <th>SibSp</th>\n",
       "      <th>Parch</th>\n",
       "      <th>Ticket</th>\n",
       "      <th>Fare</th>\n",
       "      <th>Cabin</th>\n",
       "      <th>Embarked</th>\n",
       "    </tr>\n",
       "  </thead>\n",
       "  <tbody>\n",
       "    <tr>\n",
       "      <th>0</th>\n",
       "      <td>1</td>\n",
       "      <td>0</td>\n",
       "      <td>3</td>\n",
       "      <td>Braund, Mr. Owen Harris</td>\n",
       "      <td>male</td>\n",
       "      <td>22.0</td>\n",
       "      <td>1</td>\n",
       "      <td>0</td>\n",
       "      <td>A/5 21171</td>\n",
       "      <td>7.25</td>\n",
       "      <td>NaN</td>\n",
       "      <td>S</td>\n",
       "    </tr>\n",
       "  </tbody>\n",
       "</table>\n",
       "</div>"
      ],
      "text/plain": [
       "   PassengerId  Survived  Pclass                     Name   Sex   Age  SibSp  \\\n",
       "0            1         0       3  Braund, Mr. Owen Harris  male  22.0      1   \n",
       "\n",
       "   Parch     Ticket  Fare Cabin Embarked  \n",
       "0      0  A/5 21171  7.25   NaN        S  "
      ]
     },
     "execution_count": 65,
     "metadata": {},
     "output_type": "execute_result"
    }
   ],
   "source": [
    "# 1. 数据采集\n",
    "\n",
    "# 导入数据处理python库\n",
    "import numpy as np\n",
    "import pandas as pd\n",
    "import matplotlib.pyplot as plt\n",
    "%matplotlib inline\n",
    "\n",
    "# 导入原始数据\n",
    "titanic = pd.read_csv(\"./titanic-data.csv\")\n",
    "\n",
    "# 预览样本数据\n",
    "titanic.head(1)"
   ]
  },
  {
   "cell_type": "code",
   "execution_count": 66,
   "metadata": {},
   "outputs": [
    {
     "name": "stdout",
     "output_type": "stream",
     "text": [
      "891\n",
      "891\n"
     ]
    },
    {
     "data": {
      "text/html": [
       "<div>\n",
       "<style scoped>\n",
       "    .dataframe tbody tr th:only-of-type {\n",
       "        vertical-align: middle;\n",
       "    }\n",
       "\n",
       "    .dataframe tbody tr th {\n",
       "        vertical-align: top;\n",
       "    }\n",
       "\n",
       "    .dataframe thead th {\n",
       "        text-align: right;\n",
       "    }\n",
       "</style>\n",
       "<table border=\"1\" class=\"dataframe\">\n",
       "  <thead>\n",
       "    <tr style=\"text-align: right;\">\n",
       "      <th></th>\n",
       "      <th>PassengerId</th>\n",
       "      <th>Survived</th>\n",
       "      <th>Pclass</th>\n",
       "      <th>Name</th>\n",
       "      <th>Sex</th>\n",
       "      <th>Age</th>\n",
       "      <th>SibSp</th>\n",
       "      <th>Parch</th>\n",
       "      <th>Ticket</th>\n",
       "      <th>Fare</th>\n",
       "      <th>Cabin</th>\n",
       "      <th>Embarked</th>\n",
       "    </tr>\n",
       "  </thead>\n",
       "  <tbody>\n",
       "    <tr>\n",
       "      <th>0</th>\n",
       "      <td>1</td>\n",
       "      <td>0</td>\n",
       "      <td>3</td>\n",
       "      <td>Braund, Mr. Owen Harris</td>\n",
       "      <td>male</td>\n",
       "      <td>22.0</td>\n",
       "      <td>1</td>\n",
       "      <td>0</td>\n",
       "      <td>A/5 21171</td>\n",
       "      <td>7.2500</td>\n",
       "      <td>无</td>\n",
       "      <td>S</td>\n",
       "    </tr>\n",
       "    <tr>\n",
       "      <th>1</th>\n",
       "      <td>2</td>\n",
       "      <td>1</td>\n",
       "      <td>1</td>\n",
       "      <td>Cumings, Mrs. John Bradley (Florence Briggs Th...</td>\n",
       "      <td>female</td>\n",
       "      <td>38.0</td>\n",
       "      <td>1</td>\n",
       "      <td>0</td>\n",
       "      <td>PC 17599</td>\n",
       "      <td>71.2833</td>\n",
       "      <td>C85</td>\n",
       "      <td>C</td>\n",
       "    </tr>\n",
       "    <tr>\n",
       "      <th>2</th>\n",
       "      <td>3</td>\n",
       "      <td>1</td>\n",
       "      <td>3</td>\n",
       "      <td>Heikkinen, Miss. Laina</td>\n",
       "      <td>female</td>\n",
       "      <td>26.0</td>\n",
       "      <td>0</td>\n",
       "      <td>0</td>\n",
       "      <td>STON/O2. 3101282</td>\n",
       "      <td>7.9250</td>\n",
       "      <td>无</td>\n",
       "      <td>S</td>\n",
       "    </tr>\n",
       "    <tr>\n",
       "      <th>3</th>\n",
       "      <td>4</td>\n",
       "      <td>1</td>\n",
       "      <td>1</td>\n",
       "      <td>Futrelle, Mrs. Jacques Heath (Lily May Peel)</td>\n",
       "      <td>female</td>\n",
       "      <td>35.0</td>\n",
       "      <td>1</td>\n",
       "      <td>0</td>\n",
       "      <td>113803</td>\n",
       "      <td>53.1000</td>\n",
       "      <td>C123</td>\n",
       "      <td>S</td>\n",
       "    </tr>\n",
       "    <tr>\n",
       "      <th>4</th>\n",
       "      <td>5</td>\n",
       "      <td>0</td>\n",
       "      <td>3</td>\n",
       "      <td>Allen, Mr. William Henry</td>\n",
       "      <td>male</td>\n",
       "      <td>35.0</td>\n",
       "      <td>0</td>\n",
       "      <td>0</td>\n",
       "      <td>373450</td>\n",
       "      <td>8.0500</td>\n",
       "      <td>无</td>\n",
       "      <td>S</td>\n",
       "    </tr>\n",
       "    <tr>\n",
       "      <th>5</th>\n",
       "      <td>6</td>\n",
       "      <td>0</td>\n",
       "      <td>3</td>\n",
       "      <td>Moran, Mr. James</td>\n",
       "      <td>male</td>\n",
       "      <td>0.0</td>\n",
       "      <td>0</td>\n",
       "      <td>0</td>\n",
       "      <td>330877</td>\n",
       "      <td>8.4583</td>\n",
       "      <td>无</td>\n",
       "      <td>Q</td>\n",
       "    </tr>\n",
       "    <tr>\n",
       "      <th>6</th>\n",
       "      <td>7</td>\n",
       "      <td>0</td>\n",
       "      <td>1</td>\n",
       "      <td>McCarthy, Mr. Timothy J</td>\n",
       "      <td>male</td>\n",
       "      <td>54.0</td>\n",
       "      <td>0</td>\n",
       "      <td>0</td>\n",
       "      <td>17463</td>\n",
       "      <td>51.8625</td>\n",
       "      <td>E46</td>\n",
       "      <td>S</td>\n",
       "    </tr>\n",
       "    <tr>\n",
       "      <th>7</th>\n",
       "      <td>8</td>\n",
       "      <td>0</td>\n",
       "      <td>3</td>\n",
       "      <td>Palsson, Master. Gosta Leonard</td>\n",
       "      <td>male</td>\n",
       "      <td>2.0</td>\n",
       "      <td>3</td>\n",
       "      <td>1</td>\n",
       "      <td>349909</td>\n",
       "      <td>21.0750</td>\n",
       "      <td>无</td>\n",
       "      <td>S</td>\n",
       "    </tr>\n",
       "    <tr>\n",
       "      <th>8</th>\n",
       "      <td>9</td>\n",
       "      <td>1</td>\n",
       "      <td>3</td>\n",
       "      <td>Johnson, Mrs. Oscar W (Elisabeth Vilhelmina Berg)</td>\n",
       "      <td>female</td>\n",
       "      <td>27.0</td>\n",
       "      <td>0</td>\n",
       "      <td>2</td>\n",
       "      <td>347742</td>\n",
       "      <td>11.1333</td>\n",
       "      <td>无</td>\n",
       "      <td>S</td>\n",
       "    </tr>\n",
       "    <tr>\n",
       "      <th>9</th>\n",
       "      <td>10</td>\n",
       "      <td>1</td>\n",
       "      <td>2</td>\n",
       "      <td>Nasser, Mrs. Nicholas (Adele Achem)</td>\n",
       "      <td>female</td>\n",
       "      <td>14.0</td>\n",
       "      <td>1</td>\n",
       "      <td>0</td>\n",
       "      <td>237736</td>\n",
       "      <td>30.0708</td>\n",
       "      <td>无</td>\n",
       "      <td>C</td>\n",
       "    </tr>\n",
       "  </tbody>\n",
       "</table>\n",
       "</div>"
      ],
      "text/plain": [
       "   PassengerId  Survived  Pclass  \\\n",
       "0            1         0       3   \n",
       "1            2         1       1   \n",
       "2            3         1       3   \n",
       "3            4         1       1   \n",
       "4            5         0       3   \n",
       "5            6         0       3   \n",
       "6            7         0       1   \n",
       "7            8         0       3   \n",
       "8            9         1       3   \n",
       "9           10         1       2   \n",
       "\n",
       "                                                Name     Sex   Age  SibSp  \\\n",
       "0                            Braund, Mr. Owen Harris    male  22.0      1   \n",
       "1  Cumings, Mrs. John Bradley (Florence Briggs Th...  female  38.0      1   \n",
       "2                             Heikkinen, Miss. Laina  female  26.0      0   \n",
       "3       Futrelle, Mrs. Jacques Heath (Lily May Peel)  female  35.0      1   \n",
       "4                           Allen, Mr. William Henry    male  35.0      0   \n",
       "5                                   Moran, Mr. James    male   0.0      0   \n",
       "6                            McCarthy, Mr. Timothy J    male  54.0      0   \n",
       "7                     Palsson, Master. Gosta Leonard    male   2.0      3   \n",
       "8  Johnson, Mrs. Oscar W (Elisabeth Vilhelmina Berg)  female  27.0      0   \n",
       "9                Nasser, Mrs. Nicholas (Adele Achem)  female  14.0      1   \n",
       "\n",
       "   Parch            Ticket     Fare Cabin Embarked  \n",
       "0      0         A/5 21171   7.2500     无        S  \n",
       "1      0          PC 17599  71.2833   C85        C  \n",
       "2      0  STON/O2. 3101282   7.9250     无        S  \n",
       "3      0            113803  53.1000  C123        S  \n",
       "4      0            373450   8.0500     无        S  \n",
       "5      0            330877   8.4583     无        Q  \n",
       "6      0             17463  51.8625   E46        S  \n",
       "7      1            349909  21.0750     无        S  \n",
       "8      2            347742  11.1333     无        S  \n",
       "9      0            237736  30.0708     无        C  "
      ]
     },
     "execution_count": 66,
     "metadata": {},
     "output_type": "execute_result"
    }
   ],
   "source": [
    "# 2 数据清理\n",
    "\n",
    "# 去重前行数\n",
    "print len(titanic)\n",
    "\n",
    "# 去重，去除完全一致的行\n",
    "titanic = titanic.drop_duplicates('Name')\n",
    "\n",
    "# 去重后行数\n",
    "print len(titanic)\n",
    "\n",
    "# 填充缺失值\n",
    "values = {'Age': 0, 'Cabin':\"无\"}\n",
    "titanic = titanic.fillna(value=values) \n",
    "\n",
    "# 查看清理结果\n",
    "titanic.head(10)"
   ]
  },
  {
   "cell_type": "markdown",
   "metadata": {},
   "source": [
    "# 数据探索"
   ]
  },
  {
   "cell_type": "code",
   "execution_count": 67,
   "metadata": {},
   "outputs": [],
   "source": [
    "# 定义常量# 定义常量\n",
    "SURVIVED = 'Survived'\n",
    "DENSITY = 'Density'\n",
    "GRAPH_TYPE_BAR = 'bar'\n",
    "GRAPH_TYPE_PIE = 'pie'\n",
    "HEADER_SURVIVED = 'survived'\n",
    "HEADER_TOTAL = 'total'\n",
    "HEADER_RATE = 'rate'"
   ]
  },
  {
   "cell_type": "code",
   "execution_count": 68,
   "metadata": {},
   "outputs": [],
   "source": [
    "def print_result(title, grouped_survied_factors, grouped_each_factor_counts, survived_rate):\n",
    "    \"\"\"\n",
    "    数据集横向合并后输出\n",
    "    title：feature title\n",
    "    grouped_survied_factors：存活数\n",
    "    grouped_each_factor_counts：总数\n",
    "    survived_rate：成活率\n",
    "    \"\"\"\n",
    "    print('Profile feature \\\"'+ title + '\\\" survival rate')\n",
    "    print('-------------------------------------------')\n",
    "    # 横向拼接并输\n",
    "    result = pd.concat([grouped_survied_factors, grouped_each_factor_counts, survived_rate], axis = 1)\n",
    "    result.columns = [HEADER_SURVIVED, HEADER_TOTAL, HEADER_RATE]\n",
    "    print(result)\n",
    "\n",
    "def analyse_with_one_factor(title, x_axis, y_axis, survived, factor):\n",
    "    \"\"\"\n",
    "    基于单个特征因素分析\n",
    "    title：标题\n",
    "    x_axis：x轴\n",
    "    y_axis：y轴\n",
    "    survived：存活人数\n",
    "    factor：特征\n",
    "    \"\"\"\n",
    "    # 分组\n",
    "    df_grouped = titanic[[survived, factor]].groupby(factor)\n",
    "    \n",
    "    # 统计每组生存者的总数\n",
    "    grouped_survied_factors = df_grouped.sum()\n",
    "    \n",
    "    # 统计分组总有人数\n",
    "    grouped_each_factor_counts = df_grouped.count()\n",
    "    \n",
    "    # 计算存活率\n",
    "    survived_rate = grouped_survied_factors / grouped_each_factor_counts\n",
    "    \n",
    "    # 横向拼接并输出\n",
    "    print_result(factor, grouped_survied_factors, grouped_each_factor_counts, survived_rate)\n",
    "    \n",
    "    # 绘制直方图\n",
    "    survived_rate.plot(kind = GRAPH_TYPE_BAR)\n",
    "    \n",
    "    plt.title(title)\n",
    "    plt.xlabel(x_axis)\n",
    "    plt.ylabel(y_axis)\n",
    "    \n",
    "    plt.show()\n",
    "\n",
    "def analyse_with_double_factor(title, x_axis, y_axis, survived, factor1, factor2, ):\n",
    "    \"\"\"\n",
    "    基于双重因素的预测\n",
    "    title：标题\n",
    "    x_axis：x轴\n",
    "    y_axis：y轴\n",
    "    survived：存活人数\n",
    "    factor1：特征1\n",
    "    factor2：特征2\n",
    "    \"\"\"\n",
    "    series_grouped_factor = titanic.groupby([factor1, factor2])[survived]\n",
    "    \n",
    "    grouped_survied_factors = series_grouped_factor.sum()\n",
    "    grouped_each_factor_counts = series_grouped_factor.count()\n",
    "\n",
    "    survived_rate = grouped_survied_factors / grouped_each_factor_counts\n",
    "\n",
    "    # 横向拼接并输出\n",
    "    print_result(factor1 + ' + ' + factor2, grouped_survied_factors, grouped_each_factor_counts, survived_rate)\n",
    "    \n",
    "    # 绘制直方图\n",
    "    survived_rate.unstack().plot(kind = GRAPH_TYPE_BAR)\n",
    "    \n",
    "    plt.title(title)\n",
    "    plt.xlabel(x_axis)\n",
    "    plt.ylabel(y_axis)\n",
    "    \n",
    "    plt.show()"
   ]
  },
  {
   "cell_type": "markdown",
   "metadata": {},
   "source": [
    "# 预测"
   ]
  },
  {
   "cell_type": "markdown",
   "metadata": {},
   "source": [
    "## 1. 探索舱室等级对存活率的影响"
   ]
  },
  {
   "cell_type": "code",
   "execution_count": 76,
   "metadata": {},
   "outputs": [
    {
     "data": {
      "text/plain": [
       "<matplotlib.axes._subplots.AxesSubplot at 0xf29eac8>"
      ]
     },
     "execution_count": 76,
     "metadata": {},
     "output_type": "execute_result"
    },
    {
     "data": {
      "image/png": "[encoded data removed]",
      "text/plain": [
       "<matplotlib.figure.Figure at 0xdb2deb8>"
      ]
     },
     "metadata": {},
     "output_type": "display_data"
    }
   ],
   "source": [
    "# analyse_with_one_factor( 'Pclass Survival Rate', \"Pclass\", DENSITY, SURVIVED, 'Pclass', )\n",
    "\n",
    "titanic.groupby('Pclass')['Survived'].sum().plot.pie(figsize=(5,5), autopct='%.2f%%')"
   ]
  },
  {
   "cell_type": "markdown",
   "metadata": {},
   "source": [
    "### 图形解读：x轴为舱位等级，y轴为存活率\n",
    "\n",
    "数据解读：一级舱存活率：39.77%，二级舱存活率：25.44%，三级舱存活率：34.80%"
   ]
  },
  {
   "cell_type": "markdown",
   "metadata": {},
   "source": [
    "## 2. 探索性别对存活率的影响"
   ]
  },
  {
   "cell_type": "code",
   "execution_count": 71,
   "metadata": {},
   "outputs": [
    {
     "name": "stdout",
     "output_type": "stream",
     "text": [
      "Profile feature \"Sex\" survival rate\n",
      "-------------------------------------------\n",
      "        survived  total      rate\n",
      "Sex                              \n",
      "female       233    314  0.742038\n",
      "male         109    577  0.188908\n"
     ]
    },
    {
     "data": {
      "image/png": "[encoded data removed]",
      "text/plain": [
       "<matplotlib.figure.Figure at 0xca6fc18>"
      ]
     },
     "metadata": {},
     "output_type": "display_data"
    }
   ],
   "source": [
    "analyse_with_one_factor('Sex Survival Rate', 'Sex', DENSITY, SURVIVED, 'Sex')"
   ]
  },
  {
   "cell_type": "markdown",
   "metadata": {},
   "source": [
    "图形解读：x轴为性别 female（女士）、male（男士），y轴为存活率系数 \n",
    "\n",
    "数据解读：女士存活率：74.20%，男士存活率：18.89%"
   ]
  },
  {
   "cell_type": "markdown",
   "metadata": {},
   "source": [
    "## 3. 探索乘客间是父母/小孩关系的对存活率的影响"
   ]
  },
  {
   "cell_type": "code",
   "execution_count": null,
   "metadata": {
    "scrolled": true
   },
   "outputs": [],
   "source": [
    "analyse_with_one_factor('Parch Survival Rate', 'Parch', DENSITY,SURVIVED, 'Parch')"
   ]
  },
  {
   "cell_type": "markdown",
   "metadata": {},
   "source": [
    "图形解读：x轴代表乘客中父母携带小孩的数量，y轴代表存活率系数\n",
    "\n",
    "数据解读：小孩数量0个的存活率：34.36%，1个的存活率：55.08%，2个的存活率：50.00%，3个的存活率：60%，4个存活率：0%，5个的存活率：20%，6个的存活率：0%"
   ]
  },
  {
   "cell_type": "markdown",
   "metadata": {},
   "source": [
    "## 4. 探索舱室等级与性别的综合因素对存活率的影响"
   ]
  },
  {
   "cell_type": "code",
   "execution_count": null,
   "metadata": {},
   "outputs": [],
   "source": [
    "analyse_with_double_factor( 'Pclass + Sex Survival Rate', 'Pclass + Sex', DENSITY,SURVIVED, 'Pclass', 'Sex')"
   ]
  },
  {
   "cell_type": "markdown",
   "metadata": {},
   "source": [
    "图形解读：x轴代表不同等级的舱室中男女存活数据，y轴代表存活率系数\n",
    "\n",
    "数据解读：1级舱室中男女存活率分别为：36.8%、96.80%，2级舱室中男女存活率分别为：15.74%、92.10%，3级舱室中男女存活率分别为：13.54%、50.00%"
   ]
  },
  {
   "cell_type": "markdown",
   "metadata": {},
   "source": [
    "# 结论\n",
    "\n",
    "1. 舱位等级越高，存活率越高\n",
    "2. 女性存活率高于男性\n",
    "3. 有0-3个孩子的家庭，人员存活率高\n",
    "4. 舱室等级越高且性别为女性的乘客，存活率越高\n",
    "\n",
    "泰坦尼克号上有2224名乘客和船员，乘客1300多人，船员800多人，本数据集去重后，仍然有891条数据有效，占了总乘客数的近60%。数据如果是随机抽取的，本次分析就具有代表性，如果是因为数据流失导致没有收集到数据，那么结果可能是有偏差的。另外，800多船员的数据并不在内，船员的求生技能相较于乘客来说会高一些，这样会影响数据分析的结论。"
   ]
  }
 ],
 "metadata": {
  "kernelspec": {
   "display_name": "Python 2",
   "language": "python",
   "name": "python2"
  },
  "language_info": {
   "codemirror_mode": {
    "name": "ipython",
    "version": 2
   },
   "file_extension": ".py",
   "mimetype": "text/x-python",
   "name": "python",
   "nbconvert_exporter": "python",
   "pygments_lexer": "ipython2",
   "version": "2.7.14"
  }
 },
 "nbformat": 4,
 "nbformat_minor": 2
}
